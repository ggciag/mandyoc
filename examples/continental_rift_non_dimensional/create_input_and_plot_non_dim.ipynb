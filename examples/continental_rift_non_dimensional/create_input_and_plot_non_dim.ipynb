{
 "cells": [
  {
   "cell_type": "markdown",
   "metadata": {},
   "source": [
    "# Example: Continental rift\n",
    "\n",
    "This example simulates the evolution of divergent margins, taking into account the plastic rheology and the sin-rift geodynamics.\n",
    "\n",
    "The domain of the model comprises 1600 x 300 km<sup>2</sup>, composed of a regular mesh with square elements of 1 x 1 km<sup>2</sup>.\n",
    "The boundary conditions for the velocity field simulate the lithospheric stretching\n",
    "assuming a reference frame fixed on the lithospheric plate on the left side of the model,\n",
    "and the plate on the right side moves rightward with a velocity of 1 cm/year.\n",
    "The velocity field in the left and right boundaries of the model is chosen to ensure conservation of mass\n",
    "and is symmetrical if the adopted reference frame movies to the right with a velocity of 0.5 cm/year relative to the left plate.\n",
    "Additionally, free slip condition was assumed on the top and bottom of the numerical domain.\n",
    "To simulate the free surface, the \"sticky air\" approach (e.g. Gerya and Yuen, 2003b) is adopted,\n",
    "taking into account a 40-km thick layer with a relatively low viscosity material but with a compatible density with the atmospheric air.\n",
    "The initial temperature structure is only depth dependent and is 0 ºC at the surface and 1300 ºC at the base of the lithosphere at 130 km.\n",
    "\n",
    "To avoid artifacts created by a homogeneous rheology, a random perturbation of the initial strain in each finite element of the model (e.g. Brune et al., 2014) is applied.\n",
    "This random perturbation follows a normal distribution in which the mean initial strain is 0.25 with a standard deviation of 0.08.\n",
    "Additionally, to ensure the nucleation of rifting at the center of the numerical domain,\n",
    "a weak seed (e.g. Huismans and Beaumont, 2003) is present in the lithospheric mantle with a constant initial strain of 0.3.\n",
    "\n",
    "\n",
    "Brune S., Heine C., Pérez-Gussinyé M., Sobolev S. V., Rift migration explains continental margin asymmetry and crustal hyper-extension,\n",
    "Nature communications, 2014, vol. 5, p. 1.\n",
    "\n",
    "Gerya T. V., Yuen D. A., Characteristics-based marker-in-cell method with conservative finite-differences schemes for modeling geological flows with strongly variable transport properties, Physics of the Earth and Planetary Interiors, 2003a, vol. 140, p. 293\n",
    "\n",
    "Huismans R. S., Beaumont C., Symmetric and asymmetric lithospheric extension: Relative effects of frictional-plastic and viscous strain softening, Journal of Geophysical Research: Solid Earth, 2003, vol. 108"
   ]
  },
  {
   "cell_type": "markdown",
   "metadata": {},
   "source": [
    "## Generate input files"
   ]
  },
  {
   "cell_type": "code",
   "execution_count": 167,
   "metadata": {},
   "outputs": [],
   "source": [
    "import numpy as np\n",
    "import matplotlib.pyplot as plt\n",
    "\n",
    "import pandas as pd"
   ]
  },
  {
   "cell_type": "code",
   "execution_count": 168,
   "metadata": {},
   "outputs": [],
   "source": [
    "Lz0 = 300.0E3 #Mod\n",
    "drho0 = 3000.0 #Mod\n",
    "g0 = 10.0 #Mod\n",
    "visc0 = 1.0E26 #Mod\n",
    "kappa0 = 1.0e-6 #Mod\n",
    "temperature0 = 1.0 #Mod\n",
    "\n",
    "\n",
    "# Horizontal and vertical extent of the model in meters:\n",
    "Lx, Lz = 1600.0e3, 300.0e3\n",
    "\n",
    "# Number of points in horizontal and vertical direction:\n",
    "Nx, Nz = 801, 161#1601, 301 #Mod"
   ]
  },
  {
   "cell_type": "code",
   "execution_count": 169,
   "metadata": {},
   "outputs": [],
   "source": [
    "x = np.linspace(0, Lx, Nx)\n",
    "z = np.linspace(Lz, 0, Nz)\n",
    "\n",
    "X, Z = np.meshgrid(x, z)"
   ]
  },
  {
   "cell_type": "markdown",
   "metadata": {},
   "source": [
    "### Define the thickness of the layers\n",
    "\n",
    "They are in meters."
   ]
  },
  {
   "cell_type": "code",
   "execution_count": 170,
   "metadata": {},
   "outputs": [],
   "source": [
    "# Sticky air layer:\n",
    "thickness_sa = 40.0e3\n",
    "\n",
    "# Lower crust:\n",
    "thickness_lower_crust = 20.0e3\n",
    "\n",
    "# Upper crust:\n",
    "thickness_upper_crust = 20.0e3\n",
    "\n",
    "# Lithosphere:\n",
    "thickness_litho = 130.0e3\n",
    "\n",
    "# Seed depth bellow base of lower crust\n",
    "seed_depth = 13.0e3"
   ]
  },
  {
   "cell_type": "markdown",
   "metadata": {},
   "source": [
    "### Create the interfaces (bottom first)"
   ]
  },
  {
   "cell_type": "code",
   "execution_count": 171,
   "metadata": {},
   "outputs": [],
   "source": [
    "interfaces = {\n",
    "    \"litho\": np.ones(Nx) * (thickness_litho + thickness_sa),\n",
    "    \"seed_base\": np.ones(Nx) * (seed_depth + thickness_lower_crust + thickness_upper_crust + thickness_sa),\n",
    "    \"seed_top\": np.ones(Nx) * (seed_depth + thickness_lower_crust + thickness_upper_crust + thickness_sa),\n",
    "    \"lower_crust\": np.ones(Nx) * (thickness_lower_crust + thickness_upper_crust + thickness_sa),\n",
    "    \"upper_crust\": np.ones(Nx) * (thickness_upper_crust + thickness_sa),\n",
    "    \"air\": np.ones(Nx) * (thickness_sa),\n",
    "}"
   ]
  },
  {
   "cell_type": "markdown",
   "metadata": {},
   "source": [
    "Improve the seed layers:"
   ]
  },
  {
   "cell_type": "code",
   "execution_count": 172,
   "metadata": {},
   "outputs": [],
   "source": [
    "# Seed thickness in meters:\n",
    "thickness_seed = 6.0e3\n",
    "# Seed horizontal position in meters:\n",
    "x_seed = 750.0e3\n",
    "# Number of points of horizontal extent\n",
    "n_seed = 2\n",
    "\n",
    "interfaces[\"seed_base\"][\n",
    " int(Nx * x_seed // Lx - n_seed // 2) : int(Nx * x_seed // Lx + n_seed // 2)\n",
    "] = (\n",
    "    interfaces[\"seed_base\"][\n",
    "        int(Nx * x_seed // Lx - n_seed // 2) : int(Nx * x_seed // Lx + n_seed // 2)\n",
    "    ]\n",
    "    + thickness_seed // 2\n",
    ")\n",
    "\n",
    "interfaces[\"seed_top\"][\n",
    "    int(Nx * x_seed // Lx - n_seed // 2) : int(Nx * x_seed // Lx + n_seed // 2)\n",
    "] = (\n",
    "    interfaces[\"seed_top\"][\n",
    "        int(Nx * x_seed // Lx - n_seed // 2) : int(Nx * x_seed // Lx + n_seed // 2)\n",
    "    ]\n",
    "    - thickness_seed // 2\n",
    ")"
   ]
  },
  {
   "cell_type": "markdown",
   "metadata": {},
   "source": [
    "Plot the interfaces:"
   ]
  },
  {
   "cell_type": "code",
   "execution_count": 173,
   "metadata": {},
   "outputs": [
    {
     "data": {
      "image/png": "[encoded data removed]",
      "text/plain": [
       "<Figure size 1152x576 with 1 Axes>"
      ]
     },
     "metadata": {
      "needs_background": "light"
     },
     "output_type": "display_data"
    }
   ],
   "source": [
    "fig, ax = plt.subplots(figsize=(16, 8))\n",
    "\n",
    "for label, layer in interfaces.items():\n",
    "    ax.plot(x / 1e3, (-layer + thickness_sa) / 1e3, label=f\"{label}\")\n",
    "\n",
    "ax.set_yticks(np.arange(-Lz / 1e3, 1 / 1e3, 10))\n",
    "ax.set_xlim([0, Lx/1000])\n",
    "ax.set_ylim([(-Lz + thickness_sa) / 1e3, 0 + thickness_sa / 1e3])\n",
    "\n",
    "ax.set_xlabel(\"x [km]\")\n",
    "ax.set_ylabel(\"Depth [km]\")\n",
    "\n",
    "plt.title(\"Interfaces\")\n",
    "plt.legend()\n",
    "\n",
    "plt.show()"
   ]
  },
  {
   "cell_type": "markdown",
   "metadata": {},
   "source": [
    "#### Create the interface file\n",
    "\n",
    "The interface file contain the layer properties and the interface's depth between these layers. \n",
    "\n",
    "Layer properties:\n",
    "* Compositional factor (C)\n",
    "* Density (rho)\n",
    "* Radiogenic heat (H)\n",
    "* Pre-exponential scale factor (A)\n",
    "* Power law exponent (n)\n",
    "* Activation energy (Q)\n",
    "* Activation volume (v)"
   ]
  },
  {
   "cell_type": "code",
   "execution_count": 174,
   "metadata": {},
   "outputs": [],
   "source": [
    "# Define the radiogenic heat for the upper and lower crust in W/kg:\n",
    "Huc = 2.5e-6 / 2700.0\n",
    "Hlc = 0.8e-6 / 2800.0\n",
    "\n",
    "# Create and save the interface file:\n",
    "with open(\"interfaces.txt\", \"w\") as f:\n",
    "    layer_properties = f\"\"\"\n",
    "        C   1.0       1.0        0.1        1.0        1.0         1.0         1.0\n",
    "        rho {3378.0/drho0} {3354.0/drho0} {3354.0/drho0} {3354.0/drho0} {2800.0/drho0} {2700.0/drho0} {1.0/drho0}\n",
    "        H   0.0       9.0e-12    9.0e-12    9.0e-12    {Hlc}       {Huc}       0.0\n",
    "        A   1.393e-14 2.4168e-15 2.4168e-15 2.4168e-15 8.574e-28   8.574e-28   1.0e-18\n",
    "        n   3.0       3.5        3.5        3.5        4.0         4.0         1.0\n",
    "        Q   429.0e3   540.0e3    540.0e3    540.0e3    222.0e3     222.0e3     0.0\n",
    "        V   15.0e-6   25.0e-6    25.0e-6    25.0e-6    0.0         0.0         0.0\n",
    "    \"\"\" #Mod linha do rho\n",
    "\n",
    "    for line in layer_properties.split(\"\\n\"):\n",
    "        line = line.strip()\n",
    "        if len(line):\n",
    "            f.write(\" \".join(line.split()) + \"\\n\")\n",
    "\n",
    "    data = -1 * np.array(tuple(interfaces.values())).T /Lz0 #Mod\n",
    "    np.savetxt(f, data, fmt=\"%.7f\") #Mod"
   ]
  },
  {
   "cell_type": "code",
   "execution_count": 175,
   "metadata": {},
   "outputs": [],
   "source": [
    "\n",
    "#for i in layers_keys:\n",
    "#    val = interfaces.values(i)"
   ]
  },
  {
   "cell_type": "markdown",
   "metadata": {},
   "source": [
    "### Create initial temperature field\n",
    "\n",
    "The initial temperature structure is depth dependent and is 0°C at the surface and 1300°C at the base of the lithosphere at 130 km.\n",
    "With these boundary conditions, the initial temperature structure in the interior of the lithosphere is given by the solution of the following equation:\n",
    "\n",
    "$$ \\kappa \\frac{\\partial^2 T(z)}{\\partial z^2} + \\frac{H(z)}{c_p} = 0$$\n",
    "\n",
    "where $H(z)$ is the internal heat production of the different layers.\n",
    "\n",
    "The sublithospheric temperature follows an adiabatic increase up to the bottom of the model:\n",
    "\n",
    "$$T = T_p exp (g \\alpha z ∕c_p)$$\n",
    "\n",
    "Where $T_p$ is the potential temperature for the mantle, $g$ is the gravity aceletation, $\\alpha$ is the volumetric expansion coefficient, $c_p$ is the specific heat capacity."
   ]
  },
  {
   "cell_type": "code",
   "execution_count": 176,
   "metadata": {},
   "outputs": [],
   "source": [
    "kappa = 1.0e-6 # m^2/s\n",
    "ccapacity = 1250 # J/(kg K)\n",
    "tem_p = 1262  # °C\n",
    "g = -10 # m/s^2\n",
    "alpha = 3.28e-5 # 1/K"
   ]
  },
  {
   "cell_type": "code",
   "execution_count": 177,
   "metadata": {},
   "outputs": [],
   "source": [
    "# Temperature when z < 130 km:\n",
    "temp_z = 1300 * (z - thickness_sa) / (thickness_litho)\n",
    "\n",
    "# Sublithospheric temperature:\n",
    "temp_adiabatic = tem_p / np.exp(g * alpha * (z - thickness_sa) / ccapacity)\n",
    "\n",
    "temp_z[temp_z < 0.0] = 0.0\n",
    "temp_z[temp_z > temp_adiabatic] = temp_adiabatic[temp_z > temp_adiabatic]"
   ]
  },
  {
   "cell_type": "markdown",
   "metadata": {},
   "source": [
    "Now, we will apply the thermal diffusivity in the model."
   ]
  },
  {
   "cell_type": "markdown",
   "metadata": {},
   "source": [
    "Create the internal heat production model:"
   ]
  },
  {
   "cell_type": "code",
   "execution_count": 178,
   "metadata": {},
   "outputs": [],
   "source": [
    "H = np.zeros_like(temp_z)\n",
    "\n",
    "# Add the H value for the upper crust:\n",
    "cond = (z >= thickness_sa) & (z < thickness_upper_crust + thickness_sa)\n",
    "H[cond] = Huc\n",
    "\n",
    "# Add the H value for the lower crust:\n",
    "cond = (z >= thickness_upper_crust + thickness_sa) & (\n",
    "    z < thickness_lower_crust + thickness_upper_crust + thickness_sa\n",
    ")   # lower crust\n",
    "H[cond] = Hlc"
   ]
  },
  {
   "cell_type": "code",
   "execution_count": 179,
   "metadata": {},
   "outputs": [],
   "source": [
    "Taux = np.copy(temp_z)\n",
    "t = 0\n",
    "dt = 10000\n",
    "dt_sec = dt * 365 * 24 * 3600\n",
    "cond = (z > thickness_sa + thickness_litho) | (temp_z == 0)\n",
    "dz = Lz / (Nz - 1)\n",
    "\n",
    "# Apply the thermal diffusivity\n",
    "while t < 500.0e6:\n",
    "    temp_z[1:-1] += (\n",
    "        kappa * dt_sec * ((temp_z[2:] + temp_z[:-2] - 2 * temp_z[1:-1]) / dz ** 2)\n",
    "        + H[1:-1] * dt_sec / ccapacity\n",
    "    )\n",
    "    temp_z[cond] = Taux[cond]\n",
    "    t = t + dt"
   ]
  },
  {
   "cell_type": "markdown",
   "metadata": {},
   "source": [
    "Save initial temperature file:"
   ]
  },
  {
   "cell_type": "code",
   "execution_count": 180,
   "metadata": {},
   "outputs": [
    {
     "name": "stdout",
     "output_type": "stream",
     "text": [
      "(161, 801)\n"
     ]
    }
   ],
   "source": [
    "temp_z = np.ones_like(X) * temp_z[:, None]\n",
    "\n",
    "print(np.shape(temp_z))\n",
    "\n",
    "# Save the initial temperature file\n",
    "np.savetxt(\n",
    "    \"input_temperature_0.txt\", \n",
    "    np.reshape(temp_z, (Nx * Nz)), \n",
    "    header=\"T1\\nT2\\nT3\\nT4\"\n",
    ")"
   ]
  },
  {
   "cell_type": "markdown",
   "metadata": {},
   "source": [
    "Plot the temperature model:"
   ]
  },
  {
   "cell_type": "code",
   "execution_count": 181,
   "metadata": {},
   "outputs": [
    {
     "data": {
      "image/png": "[encoded data removed]",
      "text/plain": [
       "<Figure size 1152x576 with 3 Axes>"
      ]
     },
     "metadata": {
      "needs_background": "light"
     },
     "output_type": "display_data"
    }
   ],
   "source": [
    "fig, (ax0, ax1) = plt.subplots(nrows=1, ncols=2, figsize=(16, 8))\n",
    "\n",
    "# Temperature field:\n",
    "im1 = ax0.contourf(\n",
    "    X / 1.0e3,\n",
    "    (Z - thickness_sa) / 1.0e3,\n",
    "    temp_z,\n",
    "    levels=np.arange(0, 1610, 100)\n",
    "    )\n",
    "\n",
    "ax0.set_ylim((Lz - thickness_sa) / 1.0e3, -thickness_sa / 1e3)\n",
    "ax0.set_ylabel(\"Depth [km]\")\n",
    "ax0.set_xlabel(\"x [km]\")\n",
    "cbar = fig.colorbar(im1, orientation='horizontal', ax=ax0)\n",
    "cbar.set_label(\"Temperature [°C]\")\n",
    "\n",
    "# Profile:\n",
    "ax1.set_title(\"Thermal profile [°C]\")\n",
    "ax1.plot(temp_z[:, 0], (z - thickness_sa) / 1.0e3, \"-k\")\n",
    "# Add interfaces:\n",
    "code = 0\n",
    "for label in list(interfaces.keys()):\n",
    "    code += 1\n",
    "    color = \"C\" + str(code)\n",
    "    ax1.hlines(\n",
    "        (interfaces[label][0] - thickness_sa) / 1.0e3,\n",
    "        np.min(temp_z[:, 0]),\n",
    "        np.max(temp_z[:, 0]),\n",
    "        label=f\"{label}\",\n",
    "        color=color,\n",
    "    )\n",
    "\n",
    "ax1.set_ylim((Lz - thickness_sa) / 1.0e3, -thickness_sa / 1e3)\n",
    "ax1.set_xlabel(\"Temperature [°C]\")\n",
    "ax1.set_ylabel(\"Depth [km]\")\n",
    "\n",
    "plt.legend(loc=\"lower left\")\n",
    "plt.show()"
   ]
  },
  {
   "cell_type": "markdown",
   "metadata": {},
   "source": [
    "### Boundary condition - Velocity\n",
    "\n",
    "The horizontal velocity field along the left and right borders of the domain presents two layers:\n",
    "* Constant velocity with depth at $0 ≤ z < h_c$\n",
    "* Linearly variable velocity with depth at $h_c ≤ z ≤ h_c + h_a$\n",
    "\n",
    "where $h_c = 150$ km is the thickness of the upper layer with constant velocity, corresponding to the lithosphere $h_{litho} = 130$ km and part of the asthenosphere, and $h_a = 110$ km corresponds to the remaining asthenospheric portion of the model until the bottom\n",
    "of the model, where the horizontal velocity at the borders of the model varies linearly with depth.\n",
    "Therefore, the sum $h_c + h_a$ represents the total thickness of the model without the “sticky air” layer."
   ]
  },
  {
   "cell_type": "code",
   "execution_count": 182,
   "metadata": {},
   "outputs": [],
   "source": [
    "# Convert 1 cm/year to m/s:\n",
    "velocity_L = 0.005 / (365 * 24 * 3600)\n",
    "\n",
    "# Define the thickness with constant velocity in meters\n",
    "thickness_v_const = 150.0e3\n",
    "\n",
    "thickness_a = Lz - thickness_sa - thickness_v_const\n",
    "\n",
    "velocity_R = 2 * velocity_L * (thickness_v_const + thickness_a) / thickness_a\n",
    "\n",
    "fac_air = 10.0e3"
   ]
  },
  {
   "cell_type": "code",
   "execution_count": 183,
   "metadata": {
    "tags": []
   },
   "outputs": [],
   "source": [
    "# Create  horizontal and vertical velocity:\n",
    "VX, VZ = np.zeros_like(X), np.zeros_like(X)"
   ]
  },
  {
   "cell_type": "markdown",
   "metadata": {},
   "source": [
    "Velocity for the left side (`x == 0`):"
   ]
  },
  {
   "cell_type": "code",
   "execution_count": 184,
   "metadata": {},
   "outputs": [],
   "source": [
    "# When 0 <= z <= (h_v_const + thickness_sa), VX is zero.\n",
    "# When (h_v_const * thickness_sa) <= z <= Lz, VX goes from 0 to vR.\n",
    "cond = (Z > thickness_v_const + thickness_sa) & (X == 0)\n",
    "VX[cond] = velocity_R * (Z[cond] - thickness_v_const - thickness_sa) / thickness_a"
   ]
  },
  {
   "cell_type": "markdown",
   "metadata": {},
   "source": [
    "Velocity for the right side (`x == Lx`):"
   ]
  },
  {
   "cell_type": "code",
   "execution_count": 185,
   "metadata": {},
   "outputs": [],
   "source": [
    "# When 0 <= z <= (h_v_const + thickness_sa), VX is 2vL\n",
    "# When (h_v_const + thickness_sa) < z <= Lz, VX goes from 2vL to -vR + 2vL\n",
    "cond = (Z > thickness_v_const + thickness_sa) & (X == Lx)\n",
    "VX[cond] = -velocity_R * (Z[cond] - thickness_v_const - thickness_sa) / thickness_a\n",
    "\n",
    "VX[X == Lx] += 2 * velocity_L\n",
    "\n",
    "VX[Z <= thickness_sa - fac_air] = 0"
   ]
  },
  {
   "cell_type": "markdown",
   "metadata": {},
   "source": [
    "Due to the mass conservation is assumed, the sum of the integrals over the boundaries (material flow) must be zero."
   ]
  },
  {
   "cell_type": "code",
   "execution_count": 186,
   "metadata": {},
   "outputs": [
    {
     "name": "stdout",
     "output_type": "stream",
     "text": [
      "Sum of the integrals over the boundary is: 2.868376715473532e-06\n"
     ]
    }
   ],
   "source": [
    "# For the left side:\n",
    "v0= VX[(X == 0)]\n",
    "sum_velocity_left = np.sum(v0[1:-1]) + (v0[0] + v0[-1]) / 2.0\n",
    "\n",
    "# For the right side:\n",
    "vf = VX[(X == Lx)]\n",
    "sum_velocity_right = np.sum(vf[1:-1]) + (vf[0] + vf[-1]) / 2.0\n",
    "\n",
    "dz = Lz / (Nz - 1)\n",
    "diff = (sum_velocity_right - sum_velocity_left) * dz\n",
    "\n",
    "print(\"Sum of the integrals over the boundary is:\", diff)"
   ]
  },
  {
   "cell_type": "markdown",
   "metadata": {},
   "source": [
    "If the sum of the integrals over the boundaries is not zero, because rounding errors, we add a very small flow on the top to compensate this difference.\n",
    "In fact this is a very small correction."
   ]
  },
  {
   "cell_type": "code",
   "execution_count": 187,
   "metadata": {},
   "outputs": [],
   "source": [
    "vv = -diff / Lx\n",
    "\n",
    "VZ[Z == 0] = vv"
   ]
  },
  {
   "cell_type": "markdown",
   "metadata": {},
   "source": [
    "Create and save the initial velocity file:"
   ]
  },
  {
   "cell_type": "code",
   "execution_count": 188,
   "metadata": {},
   "outputs": [],
   "source": [
    "VVX = np.copy(np.reshape(VX, Nx * Nz))\n",
    "VVZ = np.copy(np.reshape(VZ, Nx * Nz))\n",
    "\n",
    "velocity = np.zeros((2, Nx * Nz))\n",
    "\n",
    "velocity[0, :] = VVX\n",
    "velocity[1, :] = VVZ\n",
    "\n",
    "velocity = np.reshape(velocity.T, (np.size(velocity)))\n",
    "\n",
    "velocity *= visc0/(drho0*g0*Lz0**2) #Mod\n",
    "\n",
    "np.savetxt(\"input_velocity_0.txt\", velocity, header=\"v1\\nv2\\nv3\\nv4\")"
   ]
  },
  {
   "cell_type": "markdown",
   "metadata": {},
   "source": [
    "Plot the velocity profile for the boundaries:"
   ]
  },
  {
   "cell_type": "code",
   "execution_count": 189,
   "metadata": {},
   "outputs": [
    {
     "data": {
      "image/png": "[encoded data removed]",
      "text/plain": [
       "<Figure size 648x648 with 2 Axes>"
      ]
     },
     "metadata": {
      "needs_background": "light"
     },
     "output_type": "display_data"
    }
   ],
   "source": [
    "fig, (ax0, ax1) = plt.subplots(nrows=1, ncols=2, figsize=(9, 9), sharey=True)\n",
    "\n",
    "ax0.plot(VX[:, 0], (z) / 1e3, \"k-\", label=\"left side\")\n",
    "ax1.plot(VZ[:, 0], (z) / 1e3, \"k-\", label=\"left side\")\n",
    "\n",
    "ax0.plot(VX[:, -1], (z ) / 1e3, \"r-\", label=\"right side\")\n",
    "ax1.plot(VZ[:, -1], (z) / 1e3, \"r-\", label=\"right side\")\n",
    "\n",
    "ax0.legend()\n",
    "ax1.legend()\n",
    "\n",
    "ax0_xlim = ax0.get_xlim()\n",
    "ax1_xlim = ax1.get_xlim()\n",
    "\n",
    "ax0.set_yticks(np.arange(-40, Lz / 1e3, 10))\n",
    "#ax1.set_yticks(np.arange(0, Lz / 1000, 20))\n",
    "\n",
    "ax0.set_ylim([Lz / 1e3 , 0])\n",
    "\n",
    "\n",
    "ax0.set_xlim([-8e-10, 8e-10])\n",
    "ax1.set_xlim([-8e-10, 8e-10])\n",
    "\n",
    "ax0.set_xlabel(\" Velocity [m/s]\")\n",
    "ax1.set_xlabel(\" Velocity [m/s]\")\n",
    "ax0.set_ylabel(\"Depth [km]\")\n",
    "\n",
    "ax0.set_title(\"Horizontal component of velocity\")\n",
    "ax1.set_title(\"Vertical component of velocity\")\n",
    "\n",
    "plt.show()"
   ]
  },
  {
   "cell_type": "markdown",
   "metadata": {
    "tags": []
   },
   "source": [
    "### Create the parameter file"
   ]
  },
  {
   "cell_type": "code",
   "execution_count": 190,
   "metadata": {
    "tags": []
   },
   "outputs": [],
   "source": [
    "params = f\"\"\"\n",
    "nx = {Nx}\n",
    "nz = {Nz}\n",
    "lx = {Lx/Lz0}          #Mod\n",
    "lz = {Lz/Lz0}          #Mod\n",
    "\n",
    "\n",
    "# Simulation options\n",
    "multigrid                           = 1             # ok -> soon to be on the command line only\n",
    "solver                              = direct        # default is direct [direct/iterative]\n",
    "denok                               = 1.0e-6       # default is 1.0E-4 #Mod\n",
    "particles_per_element               = 40          # default is 81\n",
    "particles_perturb_factor            = 0.7           # default is 0.5 [values are between 0 and 1]\n",
    "rtol                                = 1.0e-7        #Mod #the absolute size of the residual norm (relevant only for iterative methods), default is 1.0E-5\n",
    "RK4                                 = Euler         # default is Euler [Euler/Runge-Kutta]\n",
    "Xi_min                              = 1.0e-7       # default is 1.0E-14\n",
    "random_initial_strain               = 0.3           # default is 0.0\n",
    "pressure_const                      = -1.0          # default is -1.0 (not used) - useful only in horizontal 2D models\n",
    "initial_dynamic_range               = True         # default is False [True/False]\n",
    "periodic_boundary                   = False         # default is False [True/False]\n",
    "high_kappa_in_asthenosphere         = False         # default is False [True/False]\n",
    "K_fluvial                           = 2.0e-7        # default is 2.0E-7\n",
    "m_fluvial                           = 1.0           # default is 1.0\n",
    "sea_level                           = 0.0           # default is 0.0\n",
    "basal_heat                          = 0.0          # default is -1.0\n",
    "\n",
    "# Surface processes\n",
    "sp_surface_tracking                 = False         # default is False [True/False]\n",
    "sp_surface_processes                = False         # default is False [True/False]\n",
    "sp_dt                               = 1.0e5        # default is 0.0\n",
    "sp_d_c                              = 1.0          # default is 0.0\n",
    "plot_sediment                       = False         # default is False [True/False]\n",
    "a2l                                 = True          # default is True [True/False]\n",
    "\n",
    "free_surface_stab                   = True          # default is True [True/False]\n",
    "theta_FSSA                          = 0.5           # default is 0.5 (only relevant when free_surface_stab = True)\n",
    "\n",
    "# Time constrains\n",
    "step_max                            = 5000          # Maximum time-step of the simulation\n",
    "time_max                            = 100.0e6     # Maximum time of the simulation [years]\n",
    "dt_max                              = 10.0e3      # Maximum time between steps of the simulation [years]\n",
    "step_print                          = 10            # Make file every <step_print>\n",
    "sub_division_time_step              = 0.5           # default is 1.0\n",
    "initial_print_step                  = 0             # default is 0\n",
    "initial_print_max_time              = 1.0e6         # default is 1.0E6 [years]\n",
    "\n",
    "# Viscosity\n",
    "viscosity_reference                 = {1.0e26/visc0}        # Reference viscosity [Pa.s] #Mod\n",
    "viscosity_max                       = {1.0e25/visc0}        # Maximum viscosity [Pa.s] #Mod\n",
    "viscosity_min                       = {1.0e18/visc0}        # Minimum viscosity [Pa.s] #Mod\n",
    "viscosity_per_element               = constant      # default is variable [constant/variable]\n",
    "viscosity_mean_method               = arithmetic      # default is harmonic [harmonic/arithmetic]\n",
    "viscosity_dependence                = pressure      # default is depth [pressure/depth]\n",
    "\n",
    "# External ASCII inputs/outputs\n",
    "interfaces_from_ascii               = True          # default is False [True/False]\n",
    "n_interfaces                        = {len(interfaces.keys())}           # Number of interfaces int the interfaces.txt file\n",
    "variable_bcv                        = False         # default is False [True/False]\n",
    "temperature_from_ascii              = True         # default is False [True/False]\n",
    "velocity_from_ascii                 = True         # default is False [True/False]\n",
    "binary_output                       = False         # default is False [True/False]\n",
    "sticky_blanket_air                  = True         # default is False [True/False]\n",
    "precipitation_profile_from_ascii    = False         # default is False [True/False]\n",
    "climate_change_from_ascii           = False         # default is False [True/False]\n",
    "\n",
    "\n",
    "print_step_files                    = True          # default is True [True/False]\n",
    "checkered                           = False         # Print one element in the print_step_files (default is False [True/False])\n",
    "\n",
    "sp_mode                             = 5             # default is 1 [0/1/2]\n",
    "\n",
    "geoq                                = on            # ok\n",
    "geoq_fac                            = 100.0           # ok\n",
    "\n",
    "# Physical parameters\n",
    "temperature_difference              = 1500.         # ok\n",
    "thermal_expansion_coefficient       = 3.28e-5       # ok\n",
    "thermal_diffusivity_coefficient     = {1.0e-6/kappa0}        # ok #Mod\n",
    "gravity_acceleration                = {10.0/g0}          # ok #Mod\n",
    "density_mantle                      = {3300./drho0}         # ok #Mod\n",
    "external_heat                       = 0.0e-12       # ok\n",
    "heat_capacity                       = 1250.         # ok\n",
    "\n",
    "non_linear_method                   = on            # ok\n",
    "adiabatic_component                 = on            # ok\n",
    "radiogenic_component                = on            # ok\n",
    "\n",
    "# Velocity boundary conditions\n",
    "top_normal_velocity                 = fixed         # ok\n",
    "top_tangential_velocity             = free          # ok\n",
    "bot_normal_velocity                 = fixed         # ok\n",
    "bot_tangential_velocity             = free          # ok\n",
    "left_normal_velocity                = fixed         # ok\n",
    "left_tangential_velocity            = fixed         # ok\n",
    "right_normal_velocity               = fixed         # ok\n",
    "right_tangential_velocity           = fixed         # ok\n",
    "\n",
    "surface_velocity                    = 0.0e-2        # ok\n",
    "multi_velocity                      = False         # default is False [True/False]\n",
    "\n",
    "# Temperature boundary conditions\n",
    "top_temperature                     = fixed         # ok\n",
    "bot_temperature                     = fixed         # ok\n",
    "left_temperature                    = fixed          # ok\n",
    "right_temperature                   = fixed          # ok\n",
    "\n",
    "rheology_model                      = 9             # ok\n",
    "T_initial                           = 3             # ok\n",
    "\n",
    "\n",
    "h0_scaled                           = {Lz0}            #Mod\n",
    "visc0_scaled                        = {visc0}            #Mod\n",
    "g0_scaled                           = {g0}            #Mod\n",
    "rho0_scaled                         = {drho0}            #Mod\n",
    "diffusivity0_scaled                  = {kappa0}            #Mod\n",
    "temperature0_scaled                  = {temperature0}            #Mod\n",
    "\n",
    "\"\"\"\n",
    "# Create the parameter file\n",
    "with open(\"param.txt\", \"w\") as f:\n",
    "    for line in params.split(\"\\n\"):\n",
    "        line = line.strip()\n",
    "        if len(line):\n",
    "            f.write(\" \".join(line.split()) + \"\\n\")\n"
   ]
  },
  {
   "cell_type": "markdown",
   "metadata": {},
   "source": [
    "###### Run the model with multi grid solver\n",
    "\n",
    "In this example, mandyoc use the following flags: \n",
    "\n",
    "* -seed 0,2\n",
    "* -strain_seed 0.0,1.0 \n",
    "\n",
    "You can run the model as:\n",
    "\n",
    "```\n",
    "mpirun -n NUMBER_OF_CORES mandyoc \\\n",
    "-veloc_ksp_type fgmres \\\n",
    "-veloc_pc_type mg \\\n",
    "-veloc_pc_mg_galerkin \\\n",
    "-veloc_pc_mg_levels 5 \\\n",
    "-veloc_mg_levels_ksp_max_it 8 \\\n",
    "-seed 0,2 -strain_seed 0.0,1.0 \n",
    "```\n",
    "\n",
    "*You have to change NUMBER_OF_CORES.*"
   ]
  },
  {
   "cell_type": "markdown",
   "metadata": {
    "tags": []
   },
   "source": [
    "## Post-processing\n",
    "\n",
    "### Plot the results"
   ]
  },
  {
   "cell_type": "markdown",
   "metadata": {},
   "source": [
    "Determine the initial and final step to make the plots:"
   ]
  },
  {
   "cell_type": "code",
   "execution_count": 191,
   "metadata": {},
   "outputs": [],
   "source": [
    "step_initial = 0\n",
    "step_final = 100\n",
    "\n",
    "d_step = 300"
   ]
  },
  {
   "cell_type": "markdown",
   "metadata": {},
   "source": [
    "Load the parameter file to generate the grid of the model:"
   ]
  },
  {
   "cell_type": "code",
   "execution_count": 192,
   "metadata": {},
   "outputs": [
    {
     "name": "stdout",
     "output_type": "stream",
     "text": [
      "nx: 801 \n",
      " nz: 161 \n",
      " Lx: 1600000.0 \n",
      " Lz: 300000.0\n",
      "1.1111111111111112e+16\n"
     ]
    }
   ],
   "source": [
    "with open(\"param.txt\", \"r\") as f:\n",
    "    line = f.readline()\n",
    "    line = line.split()\n",
    "    Nx = int(line[2])\n",
    "    line = f.readline()\n",
    "    line = line.split()\n",
    "    Nz = int(line[2])\n",
    "    line = f.readline()\n",
    "    line = line.split()\n",
    "    Lx = float(line[2])\n",
    "    line = f.readline()\n",
    "    line = line.split()\n",
    "    Lz = float(line[2])\n",
    "\n",
    "Lz *= Lz0 #Mod\n",
    "Lx *= Lz0 #Mod\n",
    "    \n",
    "print(\n",
    "    \"nx:\", Nx, \"\\n\",\n",
    "    \"nz:\", Nz, \"\\n\",\n",
    "    \"Lx:\", Lx, \"\\n\",\n",
    "    \"Lz:\", Lz\n",
    ")\n",
    "\n",
    "\n",
    "dt0 = visc0/(drho0*g0*Lz0) #Mod #Time conversion from the non-dimensional version to seconds\n",
    "print(dt0) #Mod\n",
    "\n",
    "seg_per_year = 365.*24.*3600."
   ]
  },
  {
   "cell_type": "markdown",
   "metadata": {},
   "source": [
    "Create the grid in kilometers:"
   ]
  },
  {
   "cell_type": "code",
   "execution_count": 193,
   "metadata": {},
   "outputs": [],
   "source": [
    "xi = np.linspace(0, Lx / 1e3, Nx)\n",
    "zi = np.linspace(-Lz / 1e3, 0, Nz)\n",
    "\n",
    "xx, zz = np.meshgrid(xi, zi)"
   ]
  },
  {
   "cell_type": "code",
   "execution_count": 194,
   "metadata": {},
   "outputs": [],
   "source": [
    "# Define the thickness of the air layer in kilometers\n",
    "thickness_air = 40.0"
   ]
  },
  {
   "cell_type": "markdown",
   "metadata": {},
   "source": [
    "Plot the results:"
   ]
  },
  {
   "cell_type": "code",
   "execution_count": 196,
   "metadata": {},
   "outputs": [
    {
     "name": "stderr",
     "output_type": "stream",
     "text": [
      "/Users/victorsacek/anaconda3/lib/python3.7/site-packages/ipykernel_launcher.py:37: RuntimeWarning: divide by zero encountered in log10\n"
     ]
    },
    {
     "name": "stdout",
     "output_type": "stream",
     "text": [
      "Step = 0\n",
      "Time = 0.0 Myr\n",
      "\n",
      "\n",
      "strain(log) -inf -0.023369448265033548\n",
      "strain 0.0 0.9476120000000001\n"
     ]
    },
    {
     "data": {
      "image/png": "[encoded data removed]",
      "text/plain": [
       "<Figure size 1440x360 with 2 Axes>"
      ]
     },
     "metadata": {
      "needs_background": "light"
     },
     "output_type": "display_data"
    },
    {
     "ename": "OSError",
     "evalue": "time_300.txt not found.",
     "output_type": "error",
     "traceback": [
      "\u001b[0;31m---------------------------------------------------------------------------\u001b[0m",
      "\u001b[0;31mOSError\u001b[0m                                   Traceback (most recent call last)",
      "\u001b[0;32m<ipython-input-196-b08fc14dc336>\u001b[0m in \u001b[0;36m<module>\u001b[0;34m\u001b[0m\n\u001b[1;32m      2\u001b[0m \u001b[0;34m\u001b[0m\u001b[0m\n\u001b[1;32m      3\u001b[0m     \u001b[0;31m# Read time\u001b[0m\u001b[0;34m\u001b[0m\u001b[0;34m\u001b[0m\u001b[0;34m\u001b[0m\u001b[0m\n\u001b[0;32m----> 4\u001b[0;31m     \u001b[0mtime\u001b[0m \u001b[0;34m=\u001b[0m \u001b[0mnp\u001b[0m\u001b[0;34m.\u001b[0m\u001b[0mloadtxt\u001b[0m\u001b[0;34m(\u001b[0m\u001b[0;34m\"time_\"\u001b[0m \u001b[0;34m+\u001b[0m \u001b[0mstr\u001b[0m\u001b[0;34m(\u001b[0m\u001b[0mcont\u001b[0m\u001b[0;34m)\u001b[0m \u001b[0;34m+\u001b[0m \u001b[0;34m\".txt\"\u001b[0m\u001b[0;34m,\u001b[0m \u001b[0mdtype\u001b[0m\u001b[0;34m=\u001b[0m\u001b[0;34m\"str\"\u001b[0m\u001b[0;34m)\u001b[0m\u001b[0;34m\u001b[0m\u001b[0;34m\u001b[0m\u001b[0m\n\u001b[0m\u001b[1;32m      5\u001b[0m     \u001b[0mtime\u001b[0m \u001b[0;34m=\u001b[0m \u001b[0mtime\u001b[0m\u001b[0;34m[\u001b[0m\u001b[0;34m:\u001b[0m\u001b[0;34m,\u001b[0m \u001b[0;36m2\u001b[0m\u001b[0;34m:\u001b[0m\u001b[0;34m]\u001b[0m\u001b[0;34m\u001b[0m\u001b[0;34m\u001b[0m\u001b[0m\n\u001b[1;32m      6\u001b[0m     \u001b[0mtime\u001b[0m \u001b[0;34m=\u001b[0m \u001b[0mtime\u001b[0m\u001b[0;34m.\u001b[0m\u001b[0mastype\u001b[0m\u001b[0;34m(\u001b[0m\u001b[0;34m\"float\"\u001b[0m\u001b[0;34m)\u001b[0m\u001b[0;34m\u001b[0m\u001b[0;34m\u001b[0m\u001b[0m\n",
      "\u001b[0;32m~/anaconda3/lib/python3.7/site-packages/numpy/lib/npyio.py\u001b[0m in \u001b[0;36mloadtxt\u001b[0;34m(fname, dtype, comments, delimiter, converters, skiprows, usecols, unpack, ndmin, encoding, max_rows)\u001b[0m\n\u001b[1;32m    966\u001b[0m             \u001b[0mfname\u001b[0m \u001b[0;34m=\u001b[0m \u001b[0mos_fspath\u001b[0m\u001b[0;34m(\u001b[0m\u001b[0mfname\u001b[0m\u001b[0;34m)\u001b[0m\u001b[0;34m\u001b[0m\u001b[0;34m\u001b[0m\u001b[0m\n\u001b[1;32m    967\u001b[0m         \u001b[0;32mif\u001b[0m \u001b[0m_is_string_like\u001b[0m\u001b[0;34m(\u001b[0m\u001b[0mfname\u001b[0m\u001b[0;34m)\u001b[0m\u001b[0;34m:\u001b[0m\u001b[0;34m\u001b[0m\u001b[0;34m\u001b[0m\u001b[0m\n\u001b[0;32m--> 968\u001b[0;31m             \u001b[0mfh\u001b[0m \u001b[0;34m=\u001b[0m \u001b[0mnp\u001b[0m\u001b[0;34m.\u001b[0m\u001b[0mlib\u001b[0m\u001b[0;34m.\u001b[0m\u001b[0m_datasource\u001b[0m\u001b[0;34m.\u001b[0m\u001b[0mopen\u001b[0m\u001b[0;34m(\u001b[0m\u001b[0mfname\u001b[0m\u001b[0;34m,\u001b[0m \u001b[0;34m'rt'\u001b[0m\u001b[0;34m,\u001b[0m \u001b[0mencoding\u001b[0m\u001b[0;34m=\u001b[0m\u001b[0mencoding\u001b[0m\u001b[0;34m)\u001b[0m\u001b[0;34m\u001b[0m\u001b[0;34m\u001b[0m\u001b[0m\n\u001b[0m\u001b[1;32m    969\u001b[0m             \u001b[0mfencoding\u001b[0m \u001b[0;34m=\u001b[0m \u001b[0mgetattr\u001b[0m\u001b[0;34m(\u001b[0m\u001b[0mfh\u001b[0m\u001b[0;34m,\u001b[0m \u001b[0;34m'encoding'\u001b[0m\u001b[0;34m,\u001b[0m \u001b[0;34m'latin1'\u001b[0m\u001b[0;34m)\u001b[0m\u001b[0;34m\u001b[0m\u001b[0;34m\u001b[0m\u001b[0m\n\u001b[1;32m    970\u001b[0m             \u001b[0mfh\u001b[0m \u001b[0;34m=\u001b[0m \u001b[0miter\u001b[0m\u001b[0;34m(\u001b[0m\u001b[0mfh\u001b[0m\u001b[0;34m)\u001b[0m\u001b[0;34m\u001b[0m\u001b[0;34m\u001b[0m\u001b[0m\n",
      "\u001b[0;32m~/anaconda3/lib/python3.7/site-packages/numpy/lib/_datasource.py\u001b[0m in \u001b[0;36mopen\u001b[0;34m(path, mode, destpath, encoding, newline)\u001b[0m\n\u001b[1;32m    267\u001b[0m \u001b[0;34m\u001b[0m\u001b[0m\n\u001b[1;32m    268\u001b[0m     \u001b[0mds\u001b[0m \u001b[0;34m=\u001b[0m \u001b[0mDataSource\u001b[0m\u001b[0;34m(\u001b[0m\u001b[0mdestpath\u001b[0m\u001b[0;34m)\u001b[0m\u001b[0;34m\u001b[0m\u001b[0;34m\u001b[0m\u001b[0m\n\u001b[0;32m--> 269\u001b[0;31m     \u001b[0;32mreturn\u001b[0m \u001b[0mds\u001b[0m\u001b[0;34m.\u001b[0m\u001b[0mopen\u001b[0m\u001b[0;34m(\u001b[0m\u001b[0mpath\u001b[0m\u001b[0;34m,\u001b[0m \u001b[0mmode\u001b[0m\u001b[0;34m,\u001b[0m \u001b[0mencoding\u001b[0m\u001b[0;34m=\u001b[0m\u001b[0mencoding\u001b[0m\u001b[0;34m,\u001b[0m \u001b[0mnewline\u001b[0m\u001b[0;34m=\u001b[0m\u001b[0mnewline\u001b[0m\u001b[0;34m)\u001b[0m\u001b[0;34m\u001b[0m\u001b[0;34m\u001b[0m\u001b[0m\n\u001b[0m\u001b[1;32m    270\u001b[0m \u001b[0;34m\u001b[0m\u001b[0m\n\u001b[1;32m    271\u001b[0m \u001b[0;34m\u001b[0m\u001b[0m\n",
      "\u001b[0;32m~/anaconda3/lib/python3.7/site-packages/numpy/lib/_datasource.py\u001b[0m in \u001b[0;36mopen\u001b[0;34m(self, path, mode, encoding, newline)\u001b[0m\n\u001b[1;32m    621\u001b[0m                                       encoding=encoding, newline=newline)\n\u001b[1;32m    622\u001b[0m         \u001b[0;32melse\u001b[0m\u001b[0;34m:\u001b[0m\u001b[0;34m\u001b[0m\u001b[0;34m\u001b[0m\u001b[0m\n\u001b[0;32m--> 623\u001b[0;31m             \u001b[0;32mraise\u001b[0m \u001b[0mIOError\u001b[0m\u001b[0;34m(\u001b[0m\u001b[0;34m\"%s not found.\"\u001b[0m \u001b[0;34m%\u001b[0m \u001b[0mpath\u001b[0m\u001b[0;34m)\u001b[0m\u001b[0;34m\u001b[0m\u001b[0;34m\u001b[0m\u001b[0m\n\u001b[0m\u001b[1;32m    624\u001b[0m \u001b[0;34m\u001b[0m\u001b[0m\n\u001b[1;32m    625\u001b[0m \u001b[0;34m\u001b[0m\u001b[0m\n",
      "\u001b[0;31mOSError\u001b[0m: time_300.txt not found."
     ]
    }
   ],
   "source": [
    "for cont in range(step_initial, step_final + d_step, d_step):  \n",
    "    \n",
    "    # Read time\n",
    "    time = np.loadtxt(\"time_\" + str(cont) + \".txt\", dtype=\"str\")\n",
    "    time = time[:, 2:]\n",
    "    time = time.astype(\"float\")\n",
    "    \n",
    "    time *= dt0/seg_per_year #Mod\n",
    "   \n",
    "    # Read density\n",
    "    rho = pd.read_csv(\n",
    "        \"density_\" + str(cont) + \".txt\",\n",
    "        delimiter=\" \",\n",
    "        comment=\"P\",\n",
    "        skiprows=2,\n",
    "        header=None,\n",
    "    )\n",
    "    rho = rho.to_numpy()\n",
    "    rho *= drho0 #Mod\n",
    "    rho[np.abs(rho) < 1.0e-200] = 0\n",
    "    rho = np.reshape(rho, (Nx, Nz), order=\"F\")\n",
    "    rho = np.transpose(rho)\n",
    "    \n",
    "    # Read strain\n",
    "    strain = pd.read_csv(\n",
    "        \"strain_\" + str(cont) + \".txt\",\n",
    "        delimiter=\" \",\n",
    "        comment=\"P\",\n",
    "        skiprows=2,\n",
    "        header=None,\n",
    "    )\n",
    "    strain = strain.to_numpy()\n",
    "    strain[np.abs(strain) < 1.0e-200] = 0\n",
    "    strain = np.reshape(strain, (Nx, Nz), order=\"F\")\n",
    "    strain = np.transpose(strain)\n",
    "    strain[rho < 200] = 0\n",
    "    strain_log = np.log10(strain)\n",
    "    \n",
    "    print(\"Step =\", cont)\n",
    "    print(\"Time = %.1lf Myr\\n\\n\" % (time[0] / 1.0e6))\n",
    "    print(\"strain(log)\", np.min(strain_log), np.max(strain_log))\n",
    "    print(\"strain\", np.min(strain), np.max(strain))\n",
    "    \n",
    "    plt.figure(figsize=(20, 5))\n",
    "    plt.title(\"Time = %.1lf Myr\\n\\n\" % (time[0] / 1.0e6))\n",
    "\n",
    "    # Create the colors to plot the density\n",
    "    cr = 255.0\n",
    "    color_upper_crust = (228.0 / cr, 156.0 / cr, 124.0 / cr)\n",
    "    color_lower_crust = (240.0 / cr, 209.0 / cr, 188.0 / cr)\n",
    "    color_lithosphere = (155.0 / cr, 194.0 / cr, 155.0 / cr)\n",
    "    color_asthenosphere = (207.0 / cr, 226.0 / cr, 205.0 / cr)\n",
    "    colors = [\n",
    "        color_upper_crust, \n",
    "        color_lower_crust, \n",
    "        color_lithosphere, \n",
    "        color_asthenosphere\n",
    "    ]\n",
    "    # Plot density\n",
    "    plt.contourf(\n",
    "        xx,\n",
    "        zz + thickness_air,\n",
    "        rho,\n",
    "        levels=[200.0, 2750, 2900, 3365, 3900],\n",
    "        colors=colors,\n",
    "    )  \n",
    "    \n",
    "    # Plot strain_log\n",
    "    plt.imshow(\n",
    "        strain_log[::-1, :],\n",
    "        extent=[0, Lx / 1e3, -Lz / 1e3 + thickness_air, thickness_air],\n",
    "        zorder=100,\n",
    "        alpha=0.2,\n",
    "        cmap=plt.get_cmap(\"Greys\"),\n",
    "        vmin=-0.5,\n",
    "        vmax=0.9,\n",
    "    )\n",
    "    plt.xlabel(\"x [km]\")\n",
    "    plt.ylabel(\"Depth [km]\")\n",
    "    \n",
    "    b1 = [0.74, 0.41, 0.2, 0.2]\n",
    "    bv1 = plt.axes(b1)\n",
    "\n",
    "    A = np.zeros((100, 10))\n",
    "\n",
    "    A[:25, :] = 2700\n",
    "    A[25:50, :] = 2800\n",
    "    A[50:75, :] = 3300\n",
    "    A[75:100, :] = 3400\n",
    "\n",
    "    A = A[::-1, :]\n",
    "\n",
    "    xA = np.linspace(-0.5, 0.9, 10)\n",
    "    yA = np.linspace(0, 1.5, 100)\n",
    "\n",
    "    xxA, yyA = np.meshgrid(xA, yA)\n",
    "    air_threshold = 200\n",
    "    plt.contourf(\n",
    "        xxA,\n",
    "        yyA,\n",
    "        A,\n",
    "        levels=[air_threshold, 2750, 2900, 3365, 3900],\n",
    "        colors=colors,\n",
    "    )\n",
    "\n",
    "    plt.imshow(\n",
    "        xxA[::-1, :],\n",
    "        extent=[-0.5, 0.9, 0, 1.5],\n",
    "        zorder=100,\n",
    "        alpha=0.2,\n",
    "        cmap=plt.get_cmap(\"Greys\"),\n",
    "        vmin=-0.5,\n",
    "        vmax=0.9,\n",
    "    )\n",
    "\n",
    "    bv1.set_yticklabels([])\n",
    "    \n",
    "    plt.xlabel(\"$log_{10}(\\epsilon_{II})$\", size=18)\n",
    "\n",
    "    plt.show()"
   ]
  },
  {
   "cell_type": "code",
   "execution_count": null,
   "metadata": {},
   "outputs": [],
   "source": []
  }
 ],
 "metadata": {
  "interpreter": {
   "hash": "56905383ab6bee97900b520fc05b0a83ba8cc65c7ebdf086939d724f25459375"
  },
  "kernelspec": {
   "display_name": "Python 3",
   "language": "python",
   "name": "python3"
  },
  "language_info": {
   "codemirror_mode": {
    "name": "ipython",
    "version": 3
   },
   "file_extension": ".py",
   "mimetype": "text/x-python",
   "name": "python",
   "nbconvert_exporter": "python",
   "pygments_lexer": "ipython3",
   "version": "3.7.4"
  }
 },
 "nbformat": 4,
 "nbformat_minor": 5
}
